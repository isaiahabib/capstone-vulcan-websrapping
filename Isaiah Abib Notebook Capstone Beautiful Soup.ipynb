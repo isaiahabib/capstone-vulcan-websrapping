{
 "cells": [
  {
   "attachments": {},
   "cell_type": "markdown",
   "metadata": {},
   "source": [
    "# Capstone Webscrapping using BeautifulSoup\n",
    "\n",
    "This notebook contains guidances & tasks on the data processing for the application\n",
    "\n",
    "## background\n",
    "\n",
    "(Please insert the background here )\n",
    "\n",
    "## Requesting the Data and Creating a BeautifulSoup\n",
    "\n",
    "Let's begin with requesting the web from the site with `get` method."
   ]
  },
  {
   "cell_type": "code",
   "execution_count": 2,
   "metadata": {
    "ExecuteTime": {
     "end_time": "2020-01-13T05:12:23.275508Z",
     "start_time": "2020-01-13T05:12:20.009898Z"
    }
   },
   "outputs": [],
   "source": [
    "import requests\n",
    "\n",
    "url_get = requests.get('https://www.exchange-rates.org/history/IDR/USD/T')\n",
    "\n"
   ]
  },
  {
   "attachments": {},
   "cell_type": "markdown",
   "metadata": {},
   "source": [
    "To visualize what exactly you get from the `request.get`, we can use .content so ee what we exactly get, in here i slice it so it won't make our screen full of the html we get from the page. You can delete the slicing if you want to see what we fully get."
   ]
  },
  {
   "cell_type": "code",
   "execution_count": 3,
   "metadata": {
    "ExecuteTime": {
     "end_time": "2020-01-13T05:12:23.290648Z",
     "start_time": "2020-01-13T05:12:23.277650Z"
    }
   },
   "outputs": [
    {
     "data": {
      "text/plain": [
       "b'!DOCTYPE html>\\r\\n<!--[if lt IE 9]>\\r\\n<html class=\"no-js ie8 oldie\" lang=\"en\" xml:lang=\\'en\\'>\\r\\n<![endif]-->\\r\\n<!--[if gt IE 8]><!--><html class=\"no-js\" lang=\"en\" xml:lang=\\'en\\'><!--<![endif]-->\\r\\n<head>\\r\\n<title>USD to IDR exchange rate history</title>\\r\\n<meta http-equiv=\"X-UA-Compatible\" content=\"IE=edge\">\\r\\n<meta name=\"viewport\" content=\"width=device-width, initial-scale=1, maximum-scale=5\">\\r\\n<meta charset=\"utf-8\" /><meta http-equiv=\"Content-Type\" content=\"text/html; charset=utf-8\" />\\r\\n<base href=\"http'"
      ]
     },
     "execution_count": 3,
     "metadata": {},
     "output_type": "execute_result"
    }
   ],
   "source": [
    "url_get.content[1:500]"
   ]
  },
  {
   "attachments": {},
   "cell_type": "markdown",
   "metadata": {},
   "source": [
    "As we can see we get a very unstructured and complex html, which actually contains the codes needed to show the webpages on your web browser. But we as human still confused what and where we can use that piece of code, so here where we use the beautifulsoup. Beautiful soup class will result a beautifulsoup object. Beautiful Soup transforms a complex HTML document into a complex tree of Python objects. \n",
    "\n",
    "Let's make Beautiful soup object and feel free to explore the object here."
   ]
  },
  {
   "cell_type": "code",
   "execution_count": 4,
   "metadata": {
    "ExecuteTime": {
     "end_time": "2020-01-13T05:12:23.808122Z",
     "start_time": "2020-01-13T05:12:23.292610Z"
    }
   },
   "outputs": [],
   "source": [
    "from bs4 import BeautifulSoup \n",
    "\n",
    "soup = BeautifulSoup(url_get.content,\"html.parser\")"
   ]
  },
  {
   "attachments": {},
   "cell_type": "markdown",
   "metadata": {},
   "source": [
    "## Finding the right key to scrap the data & Extracting the right information"
   ]
  },
  {
   "attachments": {},
   "cell_type": "markdown",
   "metadata": {},
   "source": [
    "Find the key and put the key into the `.find()` Put all the exploring the right key at this cell. (please change this markdown with your explanation)"
   ]
  },
  {
   "cell_type": "code",
   "execution_count": 5,
   "metadata": {
    "ExecuteTime": {
     "end_time": "2020-01-13T05:12:23.878904Z",
     "start_time": "2020-01-13T05:12:23.854974Z"
    }
   },
   "outputs": [
    {
     "name": "stdout",
     "output_type": "stream",
     "text": [
      "table border=\"0\" cellpadding=\"0\" cellspacing=\"0\" class=\"history-rates-data\">\n",
      " <thead>\n",
      "  <tr>\n",
      "   <th class=\"ltr-bidi-fix\">\n",
      "    Date\n",
      "   </th>\n",
      "   <th class=\"ltr-bidi-fix\">\n",
      "    US Dollar to Indonesian Rupiah\n",
      "   </th>\n",
      "  </tr>\n",
      " </thead>\n",
      " <tbody>\n",
      "  <tr>\n",
      "   <td>\n",
      "    <a class=\"w\" href=\"/exchange-rate-history/usd-idr-2023-05-11\">\n",
      "     May 11, 2023\n",
      "    </a>\n",
      "    <a class=\"n\" href=\"/exchange-rate-history/usd-idr-2023-05-11\">\n",
      "     2023-5-11\n",
      "    </a>\n",
      "   </td>\n",
      "   <td>\n",
      "    <span class=\"w\">\n",
      "     <span class=\"now\n"
     ]
    }
   ],
   "source": [
    "table = soup.find('table', attrs={'class':'history-rates-data'})\n",
    "print(table.prettify()[1:500])"
   ]
  },
  {
   "attachments": {},
   "cell_type": "markdown",
   "metadata": {},
   "source": [
    "Finding row length."
   ]
  },
  {
   "cell_type": "code",
   "execution_count": 6,
   "metadata": {},
   "outputs": [
    {
     "data": {
      "text/plain": [
       "129"
      ]
     },
     "execution_count": 6,
     "metadata": {},
     "output_type": "execute_result"
    }
   ],
   "source": [
    "row = table.find_all('a',attrs={'class':'w'})\n",
    "row_length = len(row)\n",
    "row_length"
   ]
  },
  {
   "attachments": {},
   "cell_type": "markdown",
   "metadata": {},
   "source": [
    "Do the scrapping process here (please change this markdown with your explanation)"
   ]
  },
  {
   "cell_type": "code",
   "execution_count": 8,
   "metadata": {
    "ExecuteTime": {
     "end_time": "2020-01-13T05:12:24.008256Z",
     "start_time": "2020-01-13T05:12:23.980358Z"
    }
   },
   "outputs": [
    {
     "data": {
      "text/plain": [
       "[('May 11, 2023', '$1 = Rp14,776'),\n",
       " ('May 10, 2023', '$1 = Rp14,698'),\n",
       " ('May 9, 2023', '$1 = Rp14,776'),\n",
       " ('May 8, 2023', '$1 = Rp14,744'),\n",
       " ('May 5, 2023', '$1 = Rp14,675'),\n",
       " ('May 4, 2023', '$1 = Rp14,699'),\n",
       " ('May 3, 2023', '$1 = Rp14,680'),\n",
       " ('May 2, 2023', '$1 = Rp14,747'),\n",
       " ('May 1, 2023', '$1 = Rp14,677'),\n",
       " ('April 28, 2023', '$1 = Rp14,674'),\n",
       " ('April 27, 2023', '$1 = Rp14,691'),\n",
       " ('April 26, 2023', '$1 = Rp14,841'),\n",
       " ('April 25, 2023', '$1 = Rp14,940'),\n",
       " ('April 24, 2023', '$1 = Rp14,934'),\n",
       " ('April 21, 2023', '$1 = Rp14,936'),\n",
       " ('April 20, 2023', '$1 = Rp14,954'),\n",
       " ('April 19, 2023', '$1 = Rp14,995'),\n",
       " ('April 18, 2023', '$1 = Rp14,889'),\n",
       " ('April 17, 2023', '$1 = Rp14,850'),\n",
       " ('April 14, 2023', '$1 = Rp14,782'),\n",
       " ('April 13, 2023', '$1 = Rp14,722'),\n",
       " ('April 12, 2023', '$1 = Rp14,835'),\n",
       " ('April 11, 2023', '$1 = Rp14,915'),\n",
       " ('April 10, 2023', '$1 = Rp14,950'),\n",
       " ('April 7, 2023', '$1 = Rp14,941'),\n",
       " ('April 6, 2023', '$1 = Rp14,931'),\n",
       " ('April 5, 2023', '$1 = Rp14,960'),\n",
       " ('April 4, 2023', '$1 = Rp14,957'),\n",
       " ('April 3, 2023', '$1 = Rp14,922'),\n",
       " ('March 31, 2023', '$1 = Rp14,969'),\n",
       " ('March 30, 2023', '$1 = Rp15,024'),\n",
       " ('March 29, 2023', '$1 = Rp15,034'),\n",
       " ('March 28, 2023', '$1 = Rp15,060'),\n",
       " ('March 27, 2023', '$1 = Rp15,107'),\n",
       " ('March 24, 2023', '$1 = Rp15,165'),\n",
       " ('March 23, 2023', '$1 = Rp15,085'),\n",
       " ('March 22, 2023', '$1 = Rp15,253'),\n",
       " ('March 21, 2023', '$1 = Rp15,301'),\n",
       " ('March 20, 2023', '$1 = Rp15,343'),\n",
       " ('March 17, 2023', '$1 = Rp15,375'),\n",
       " ('March 16, 2023', '$1 = Rp15,429'),\n",
       " ('March 15, 2023', '$1 = Rp15,459'),\n",
       " ('March 14, 2023', '$1 = Rp15,380'),\n",
       " ('March 13, 2023', '$1 = Rp15,416'),\n",
       " ('March 10, 2023', '$1 = Rp15,503'),\n",
       " ('March 9, 2023', '$1 = Rp15,495'),\n",
       " ('March 8, 2023', '$1 = Rp15,449'),\n",
       " ('March 7, 2023', '$1 = Rp15,429'),\n",
       " ('March 6, 2023', '$1 = Rp15,354'),\n",
       " ('March 3, 2023', '$1 = Rp15,278'),\n",
       " ('March 2, 2023', '$1 = Rp15,322'),\n",
       " ('March 1, 2023', '$1 = Rp15,249'),\n",
       " ('February 28, 2023', '$1 = Rp15,241'),\n",
       " ('February 27, 2023', '$1 = Rp15,216'),\n",
       " ('February 24, 2023', '$1 = Rp15,265'),\n",
       " ('February 23, 2023', '$1 = Rp15,211'),\n",
       " ('February 22, 2023', '$1 = Rp15,197'),\n",
       " ('February 21, 2023', '$1 = Rp15,235'),\n",
       " ('February 20, 2023', '$1 = Rp15,168'),\n",
       " ('February 17, 2023', '$1 = Rp15,166'),\n",
       " ('February 16, 2023', '$1 = Rp15,144'),\n",
       " ('February 15, 2023', '$1 = Rp15,205'),\n",
       " ('February 14, 2023', '$1 = Rp15,186'),\n",
       " ('February 13, 2023', '$1 = Rp15,216'),\n",
       " ('February 10, 2023', '$1 = Rp15,188'),\n",
       " ('February 9, 2023', '$1 = Rp15,147'),\n",
       " ('February 8, 2023', '$1 = Rp15,133'),\n",
       " ('February 7, 2023', '$1 = Rp15,154'),\n",
       " ('February 6, 2023', '$1 = Rp15,198'),\n",
       " ('February 3, 2023', '$1 = Rp15,095'),\n",
       " ('February 2, 2023', '$1 = Rp14,907'),\n",
       " ('February 1, 2023', '$1 = Rp14,896'),\n",
       " ('January 31, 2023', '$1 = Rp15,002'),\n",
       " ('January 30, 2023', '$1 = Rp15,013'),\n",
       " ('January 27, 2023', '$1 = Rp14,973'),\n",
       " ('January 26, 2023', '$1 = Rp14,955'),\n",
       " ('January 25, 2023', '$1 = Rp14,940'),\n",
       " ('January 24, 2023', '$1 = Rp14,956'),\n",
       " ('January 23, 2023', '$1 = Rp15,026'),\n",
       " ('January 20, 2023', '$1 = Rp15,063'),\n",
       " ('January 19, 2023', '$1 = Rp15,154'),\n",
       " ('January 18, 2023', '$1 = Rp15,138'),\n",
       " ('January 17, 2023', '$1 = Rp15,180'),\n",
       " ('January 16, 2023', '$1 = Rp15,126'),\n",
       " ('January 13, 2023', '$1 = Rp15,115'),\n",
       " ('January 12, 2023', '$1 = Rp15,206'),\n",
       " ('January 11, 2023', '$1 = Rp15,432'),\n",
       " ('January 10, 2023', '$1 = Rp15,536'),\n",
       " ('January 9, 2023', '$1 = Rp15,596'),\n",
       " ('January 6, 2023', '$1 = Rp15,607'),\n",
       " ('January 5, 2023', '$1 = Rp15,635'),\n",
       " ('January 4, 2023', '$1 = Rp15,582'),\n",
       " ('January 3, 2023', '$1 = Rp15,594'),\n",
       " ('January 2, 2023', '$1 = Rp15,554'),\n",
       " ('December 30, 2022', '$1 = Rp15,534'),\n",
       " ('December 29, 2022', '$1 = Rp15,627'),\n",
       " ('December 28, 2022', '$1 = Rp15,789'),\n",
       " ('December 27, 2022', '$1 = Rp15,620'),\n",
       " ('December 26, 2022', '$1 = Rp15,621'),\n",
       " ('December 23, 2022', '$1 = Rp15,582'),\n",
       " ('December 22, 2022', '$1 = Rp15,574'),\n",
       " ('December 21, 2022', '$1 = Rp15,540'),\n",
       " ('December 20, 2022', '$1 = Rp15,564'),\n",
       " ('December 19, 2022', '$1 = Rp15,568'),\n",
       " ('December 16, 2022', '$1 = Rp15,616'),\n",
       " ('December 15, 2022', '$1 = Rp15,629'),\n",
       " ('December 14, 2022', '$1 = Rp15,543'),\n",
       " ('December 13, 2022', '$1 = Rp15,560'),\n",
       " ('December 12, 2022', '$1 = Rp15,676'),\n",
       " ('December 9, 2022', '$1 = Rp15,604'),\n",
       " ('December 8, 2022', '$1 = Rp15,594'),\n",
       " ('December 7, 2022', '$1 = Rp15,612'),\n",
       " ('December 6, 2022', '$1 = Rp15,625'),\n",
       " ('December 5, 2022', '$1 = Rp15,520'),\n",
       " ('December 2, 2022', '$1 = Rp15,376'),\n",
       " ('December 1, 2022', '$1 = Rp15,389'),\n",
       " ('November 30, 2022', '$1 = Rp15,633'),\n",
       " ('November 29, 2022', '$1 = Rp15,734'),\n",
       " ('November 28, 2022', '$1 = Rp15,743'),\n",
       " ('November 25, 2022', '$1 = Rp15,693'),\n",
       " ('November 24, 2022', '$1 = Rp15,647'),\n",
       " ('November 23, 2022', '$1 = Rp15,626'),\n",
       " ('November 22, 2022', '$1 = Rp15,664'),\n",
       " ('November 21, 2022', '$1 = Rp15,741'),\n",
       " ('November 18, 2022', '$1 = Rp15,641'),\n",
       " ('November 17, 2022', '$1 = Rp15,714'),\n",
       " ('November 16, 2022', '$1 = Rp15,639'),\n",
       " ('November 15, 2022', '$1 = Rp15,557'),\n",
       " ('November 14, 2022', '$1 = Rp15,554')]"
      ]
     },
     "execution_count": 8,
     "metadata": {},
     "output_type": "execute_result"
    }
   ],
   "source": [
    "temp = [] #initiating a tuple\n",
    "\n",
    "for i in range(0, row_length):\n",
    "\n",
    "    #get period\n",
    "    date = table.find_all('a',attrs={'class':'w'})[i].text\n",
    "    date = date.strip()\n",
    "    #get exchange rate\n",
    "    exchange_rate = table.find_all('span',attrs={'class':'w'})[i].text\n",
    "    exchange_rate = exchange_rate.strip()\n",
    "    temp.append((date,exchange_rate))\n",
    "    \n",
    "temp "
   ]
  },
  {
   "attachments": {},
   "cell_type": "markdown",
   "metadata": {},
   "source": [
    "## Creating data frame & Data wrangling"
   ]
  },
  {
   "attachments": {},
   "cell_type": "markdown",
   "metadata": {},
   "source": [
    "Put the array into dataframe"
   ]
  },
  {
   "cell_type": "code",
   "execution_count": 19,
   "metadata": {
    "ExecuteTime": {
     "end_time": "2020-01-13T05:12:41.517372Z",
     "start_time": "2020-01-13T05:12:29.130015Z"
    }
   },
   "outputs": [
    {
     "data": {
      "text/html": [
       "<div>\n",
       "<style scoped>\n",
       "    .dataframe tbody tr th:only-of-type {\n",
       "        vertical-align: middle;\n",
       "    }\n",
       "\n",
       "    .dataframe tbody tr th {\n",
       "        vertical-align: top;\n",
       "    }\n",
       "\n",
       "    .dataframe thead th {\n",
       "        text-align: right;\n",
       "    }\n",
       "</style>\n",
       "<table border=\"1\" class=\"dataframe\">\n",
       "  <thead>\n",
       "    <tr style=\"text-align: right;\">\n",
       "      <th></th>\n",
       "      <th>date</th>\n",
       "      <th>exchange_rate</th>\n",
       "    </tr>\n",
       "  </thead>\n",
       "  <tbody>\n",
       "    <tr>\n",
       "      <th>0</th>\n",
       "      <td>May 11, 2023</td>\n",
       "      <td>$1 = Rp14,776</td>\n",
       "    </tr>\n",
       "    <tr>\n",
       "      <th>1</th>\n",
       "      <td>May 10, 2023</td>\n",
       "      <td>$1 = Rp14,698</td>\n",
       "    </tr>\n",
       "    <tr>\n",
       "      <th>2</th>\n",
       "      <td>May 9, 2023</td>\n",
       "      <td>$1 = Rp14,776</td>\n",
       "    </tr>\n",
       "    <tr>\n",
       "      <th>3</th>\n",
       "      <td>May 8, 2023</td>\n",
       "      <td>$1 = Rp14,744</td>\n",
       "    </tr>\n",
       "    <tr>\n",
       "      <th>4</th>\n",
       "      <td>May 5, 2023</td>\n",
       "      <td>$1 = Rp14,675</td>\n",
       "    </tr>\n",
       "  </tbody>\n",
       "</table>\n",
       "</div>"
      ],
      "text/plain": [
       "           date  exchange_rate\n",
       "0  May 11, 2023  $1 = Rp14,776\n",
       "1  May 10, 2023  $1 = Rp14,698\n",
       "2   May 9, 2023  $1 = Rp14,776\n",
       "3   May 8, 2023  $1 = Rp14,744\n",
       "4   May 5, 2023  $1 = Rp14,675"
      ]
     },
     "execution_count": 19,
     "metadata": {},
     "output_type": "execute_result"
    }
   ],
   "source": [
    "import pandas as pd\n",
    "\n",
    "df = pd.DataFrame(temp, columns=('date','exchange_rate'))\n",
    "df.head()"
   ]
  },
  {
   "attachments": {},
   "cell_type": "markdown",
   "metadata": {},
   "source": [
    "Do the data cleaning here (please change this markdown with your explanation of what you do for data wrangling)"
   ]
  },
  {
   "cell_type": "code",
   "execution_count": 10,
   "metadata": {
    "ExecuteTime": {
     "end_time": "2020-01-13T05:12:59.165559Z",
     "start_time": "2020-01-13T05:12:58.910012Z"
    }
   },
   "outputs": [
    {
     "data": {
      "text/plain": [
       "date             object\n",
       "exchange_rate    object\n",
       "dtype: object"
      ]
     },
     "execution_count": 10,
     "metadata": {},
     "output_type": "execute_result"
    }
   ],
   "source": [
    "df.dtypes\n"
   ]
  },
  {
   "cell_type": "code",
   "execution_count": 20,
   "metadata": {},
   "outputs": [],
   "source": [
    "df['date'] = df['date'].astype('datetime64[ns]')"
   ]
  },
  {
   "cell_type": "code",
   "execution_count": 22,
   "metadata": {},
   "outputs": [
    {
     "data": {
      "text/html": [
       "<div>\n",
       "<style scoped>\n",
       "    .dataframe tbody tr th:only-of-type {\n",
       "        vertical-align: middle;\n",
       "    }\n",
       "\n",
       "    .dataframe tbody tr th {\n",
       "        vertical-align: top;\n",
       "    }\n",
       "\n",
       "    .dataframe thead th {\n",
       "        text-align: right;\n",
       "    }\n",
       "</style>\n",
       "<table border=\"1\" class=\"dataframe\">\n",
       "  <thead>\n",
       "    <tr style=\"text-align: right;\">\n",
       "      <th></th>\n",
       "      <th>date</th>\n",
       "      <th>exchange_rate</th>\n",
       "    </tr>\n",
       "  </thead>\n",
       "  <tbody>\n",
       "    <tr>\n",
       "      <th>0</th>\n",
       "      <td>2023-05-11</td>\n",
       "      <td>$1 = Rp14,776</td>\n",
       "    </tr>\n",
       "    <tr>\n",
       "      <th>1</th>\n",
       "      <td>2023-05-10</td>\n",
       "      <td>$1 = Rp14,698</td>\n",
       "    </tr>\n",
       "    <tr>\n",
       "      <th>2</th>\n",
       "      <td>2023-05-09</td>\n",
       "      <td>$1 = Rp14,776</td>\n",
       "    </tr>\n",
       "    <tr>\n",
       "      <th>3</th>\n",
       "      <td>2023-05-08</td>\n",
       "      <td>$1 = Rp14,744</td>\n",
       "    </tr>\n",
       "    <tr>\n",
       "      <th>4</th>\n",
       "      <td>2023-05-05</td>\n",
       "      <td>$1 = Rp14,675</td>\n",
       "    </tr>\n",
       "    <tr>\n",
       "      <th>...</th>\n",
       "      <td>...</td>\n",
       "      <td>...</td>\n",
       "    </tr>\n",
       "    <tr>\n",
       "      <th>124</th>\n",
       "      <td>2022-11-18</td>\n",
       "      <td>$1 = Rp15,641</td>\n",
       "    </tr>\n",
       "    <tr>\n",
       "      <th>125</th>\n",
       "      <td>2022-11-17</td>\n",
       "      <td>$1 = Rp15,714</td>\n",
       "    </tr>\n",
       "    <tr>\n",
       "      <th>126</th>\n",
       "      <td>2022-11-16</td>\n",
       "      <td>$1 = Rp15,639</td>\n",
       "    </tr>\n",
       "    <tr>\n",
       "      <th>127</th>\n",
       "      <td>2022-11-15</td>\n",
       "      <td>$1 = Rp15,557</td>\n",
       "    </tr>\n",
       "    <tr>\n",
       "      <th>128</th>\n",
       "      <td>2022-11-14</td>\n",
       "      <td>$1 = Rp15,554</td>\n",
       "    </tr>\n",
       "  </tbody>\n",
       "</table>\n",
       "<p>129 rows × 2 columns</p>\n",
       "</div>"
      ],
      "text/plain": [
       "          date  exchange_rate\n",
       "0   2023-05-11  $1 = Rp14,776\n",
       "1   2023-05-10  $1 = Rp14,698\n",
       "2   2023-05-09  $1 = Rp14,776\n",
       "3   2023-05-08  $1 = Rp14,744\n",
       "4   2023-05-05  $1 = Rp14,675\n",
       "..         ...            ...\n",
       "124 2022-11-18  $1 = Rp15,641\n",
       "125 2022-11-17  $1 = Rp15,714\n",
       "126 2022-11-16  $1 = Rp15,639\n",
       "127 2022-11-15  $1 = Rp15,557\n",
       "128 2022-11-14  $1 = Rp15,554\n",
       "\n",
       "[129 rows x 2 columns]"
      ]
     },
     "execution_count": 22,
     "metadata": {},
     "output_type": "execute_result"
    }
   ],
   "source": [
    "df"
   ]
  },
  {
   "cell_type": "code",
   "execution_count": 23,
   "metadata": {},
   "outputs": [],
   "source": [
    "df['exchange_rate'] = df['exchange_rate'].str.replace(\"$1\",\" \")"
   ]
  },
  {
   "cell_type": "code",
   "execution_count": 24,
   "metadata": {},
   "outputs": [
    {
     "data": {
      "text/html": [
       "<div>\n",
       "<style scoped>\n",
       "    .dataframe tbody tr th:only-of-type {\n",
       "        vertical-align: middle;\n",
       "    }\n",
       "\n",
       "    .dataframe tbody tr th {\n",
       "        vertical-align: top;\n",
       "    }\n",
       "\n",
       "    .dataframe thead th {\n",
       "        text-align: right;\n",
       "    }\n",
       "</style>\n",
       "<table border=\"1\" class=\"dataframe\">\n",
       "  <thead>\n",
       "    <tr style=\"text-align: right;\">\n",
       "      <th></th>\n",
       "      <th>date</th>\n",
       "      <th>exchange_rate</th>\n",
       "    </tr>\n",
       "  </thead>\n",
       "  <tbody>\n",
       "    <tr>\n",
       "      <th>0</th>\n",
       "      <td>2023-05-11</td>\n",
       "      <td>= Rp14,776</td>\n",
       "    </tr>\n",
       "    <tr>\n",
       "      <th>1</th>\n",
       "      <td>2023-05-10</td>\n",
       "      <td>= Rp14,698</td>\n",
       "    </tr>\n",
       "    <tr>\n",
       "      <th>2</th>\n",
       "      <td>2023-05-09</td>\n",
       "      <td>= Rp14,776</td>\n",
       "    </tr>\n",
       "    <tr>\n",
       "      <th>3</th>\n",
       "      <td>2023-05-08</td>\n",
       "      <td>= Rp14,744</td>\n",
       "    </tr>\n",
       "    <tr>\n",
       "      <th>4</th>\n",
       "      <td>2023-05-05</td>\n",
       "      <td>= Rp14,675</td>\n",
       "    </tr>\n",
       "    <tr>\n",
       "      <th>...</th>\n",
       "      <td>...</td>\n",
       "      <td>...</td>\n",
       "    </tr>\n",
       "    <tr>\n",
       "      <th>124</th>\n",
       "      <td>2022-11-18</td>\n",
       "      <td>= Rp15,641</td>\n",
       "    </tr>\n",
       "    <tr>\n",
       "      <th>125</th>\n",
       "      <td>2022-11-17</td>\n",
       "      <td>= Rp15,714</td>\n",
       "    </tr>\n",
       "    <tr>\n",
       "      <th>126</th>\n",
       "      <td>2022-11-16</td>\n",
       "      <td>= Rp15,639</td>\n",
       "    </tr>\n",
       "    <tr>\n",
       "      <th>127</th>\n",
       "      <td>2022-11-15</td>\n",
       "      <td>= Rp15,557</td>\n",
       "    </tr>\n",
       "    <tr>\n",
       "      <th>128</th>\n",
       "      <td>2022-11-14</td>\n",
       "      <td>= Rp15,554</td>\n",
       "    </tr>\n",
       "  </tbody>\n",
       "</table>\n",
       "<p>129 rows × 2 columns</p>\n",
       "</div>"
      ],
      "text/plain": [
       "          date exchange_rate\n",
       "0   2023-05-11    = Rp14,776\n",
       "1   2023-05-10    = Rp14,698\n",
       "2   2023-05-09    = Rp14,776\n",
       "3   2023-05-08    = Rp14,744\n",
       "4   2023-05-05    = Rp14,675\n",
       "..         ...           ...\n",
       "124 2022-11-18    = Rp15,641\n",
       "125 2022-11-17    = Rp15,714\n",
       "126 2022-11-16    = Rp15,639\n",
       "127 2022-11-15    = Rp15,557\n",
       "128 2022-11-14    = Rp15,554\n",
       "\n",
       "[129 rows x 2 columns]"
      ]
     },
     "execution_count": 24,
     "metadata": {},
     "output_type": "execute_result"
    }
   ],
   "source": [
    "df"
   ]
  },
  {
   "cell_type": "code",
   "execution_count": 28,
   "metadata": {},
   "outputs": [],
   "source": [
    "df['exchange_rate'] = df['exchange_rate'].str.replace(\"Rp\",\" \")"
   ]
  },
  {
   "cell_type": "code",
   "execution_count": 25,
   "metadata": {},
   "outputs": [],
   "source": [
    "df['exchange_rate'] = df['exchange_rate'].str.replace(\"=\",\" \")"
   ]
  },
  {
   "cell_type": "code",
   "execution_count": 31,
   "metadata": {},
   "outputs": [
    {
     "data": {
      "text/html": [
       "<div>\n",
       "<style scoped>\n",
       "    .dataframe tbody tr th:only-of-type {\n",
       "        vertical-align: middle;\n",
       "    }\n",
       "\n",
       "    .dataframe tbody tr th {\n",
       "        vertical-align: top;\n",
       "    }\n",
       "\n",
       "    .dataframe thead th {\n",
       "        text-align: right;\n",
       "    }\n",
       "</style>\n",
       "<table border=\"1\" class=\"dataframe\">\n",
       "  <thead>\n",
       "    <tr style=\"text-align: right;\">\n",
       "      <th></th>\n",
       "      <th>date</th>\n",
       "      <th>exchange_rate</th>\n",
       "    </tr>\n",
       "  </thead>\n",
       "  <tbody>\n",
       "    <tr>\n",
       "      <th>0</th>\n",
       "      <td>2023-05-11</td>\n",
       "      <td>14,776</td>\n",
       "    </tr>\n",
       "    <tr>\n",
       "      <th>1</th>\n",
       "      <td>2023-05-10</td>\n",
       "      <td>14,698</td>\n",
       "    </tr>\n",
       "    <tr>\n",
       "      <th>2</th>\n",
       "      <td>2023-05-09</td>\n",
       "      <td>14,776</td>\n",
       "    </tr>\n",
       "    <tr>\n",
       "      <th>3</th>\n",
       "      <td>2023-05-08</td>\n",
       "      <td>14,744</td>\n",
       "    </tr>\n",
       "    <tr>\n",
       "      <th>4</th>\n",
       "      <td>2023-05-05</td>\n",
       "      <td>14,675</td>\n",
       "    </tr>\n",
       "    <tr>\n",
       "      <th>...</th>\n",
       "      <td>...</td>\n",
       "      <td>...</td>\n",
       "    </tr>\n",
       "    <tr>\n",
       "      <th>124</th>\n",
       "      <td>2022-11-18</td>\n",
       "      <td>15,641</td>\n",
       "    </tr>\n",
       "    <tr>\n",
       "      <th>125</th>\n",
       "      <td>2022-11-17</td>\n",
       "      <td>15,714</td>\n",
       "    </tr>\n",
       "    <tr>\n",
       "      <th>126</th>\n",
       "      <td>2022-11-16</td>\n",
       "      <td>15,639</td>\n",
       "    </tr>\n",
       "    <tr>\n",
       "      <th>127</th>\n",
       "      <td>2022-11-15</td>\n",
       "      <td>15,557</td>\n",
       "    </tr>\n",
       "    <tr>\n",
       "      <th>128</th>\n",
       "      <td>2022-11-14</td>\n",
       "      <td>15,554</td>\n",
       "    </tr>\n",
       "  </tbody>\n",
       "</table>\n",
       "<p>129 rows × 2 columns</p>\n",
       "</div>"
      ],
      "text/plain": [
       "          date exchange_rate\n",
       "0   2023-05-11        14,776\n",
       "1   2023-05-10        14,698\n",
       "2   2023-05-09        14,776\n",
       "3   2023-05-08        14,744\n",
       "4   2023-05-05        14,675\n",
       "..         ...           ...\n",
       "124 2022-11-18        15,641\n",
       "125 2022-11-17        15,714\n",
       "126 2022-11-16        15,639\n",
       "127 2022-11-15        15,557\n",
       "128 2022-11-14        15,554\n",
       "\n",
       "[129 rows x 2 columns]"
      ]
     },
     "execution_count": 31,
     "metadata": {},
     "output_type": "execute_result"
    }
   ],
   "source": [
    "df"
   ]
  },
  {
   "cell_type": "code",
   "execution_count": 35,
   "metadata": {},
   "outputs": [],
   "source": [
    "df['exchange_rate'] = df['exchange_rate'].str.replace(\",\",\"\")"
   ]
  },
  {
   "cell_type": "code",
   "execution_count": 36,
   "metadata": {},
   "outputs": [
    {
     "data": {
      "text/html": [
       "<div>\n",
       "<style scoped>\n",
       "    .dataframe tbody tr th:only-of-type {\n",
       "        vertical-align: middle;\n",
       "    }\n",
       "\n",
       "    .dataframe tbody tr th {\n",
       "        vertical-align: top;\n",
       "    }\n",
       "\n",
       "    .dataframe thead th {\n",
       "        text-align: right;\n",
       "    }\n",
       "</style>\n",
       "<table border=\"1\" class=\"dataframe\">\n",
       "  <thead>\n",
       "    <tr style=\"text-align: right;\">\n",
       "      <th></th>\n",
       "      <th>date</th>\n",
       "      <th>exchange_rate</th>\n",
       "    </tr>\n",
       "  </thead>\n",
       "  <tbody>\n",
       "    <tr>\n",
       "      <th>0</th>\n",
       "      <td>2023-05-11</td>\n",
       "      <td>14.776</td>\n",
       "    </tr>\n",
       "    <tr>\n",
       "      <th>1</th>\n",
       "      <td>2023-05-10</td>\n",
       "      <td>14.698</td>\n",
       "    </tr>\n",
       "    <tr>\n",
       "      <th>2</th>\n",
       "      <td>2023-05-09</td>\n",
       "      <td>14.776</td>\n",
       "    </tr>\n",
       "    <tr>\n",
       "      <th>3</th>\n",
       "      <td>2023-05-08</td>\n",
       "      <td>14.744</td>\n",
       "    </tr>\n",
       "    <tr>\n",
       "      <th>4</th>\n",
       "      <td>2023-05-05</td>\n",
       "      <td>14.675</td>\n",
       "    </tr>\n",
       "    <tr>\n",
       "      <th>...</th>\n",
       "      <td>...</td>\n",
       "      <td>...</td>\n",
       "    </tr>\n",
       "    <tr>\n",
       "      <th>124</th>\n",
       "      <td>2022-11-18</td>\n",
       "      <td>15.641</td>\n",
       "    </tr>\n",
       "    <tr>\n",
       "      <th>125</th>\n",
       "      <td>2022-11-17</td>\n",
       "      <td>15.714</td>\n",
       "    </tr>\n",
       "    <tr>\n",
       "      <th>126</th>\n",
       "      <td>2022-11-16</td>\n",
       "      <td>15.639</td>\n",
       "    </tr>\n",
       "    <tr>\n",
       "      <th>127</th>\n",
       "      <td>2022-11-15</td>\n",
       "      <td>15.557</td>\n",
       "    </tr>\n",
       "    <tr>\n",
       "      <th>128</th>\n",
       "      <td>2022-11-14</td>\n",
       "      <td>15.554</td>\n",
       "    </tr>\n",
       "  </tbody>\n",
       "</table>\n",
       "<p>129 rows × 2 columns</p>\n",
       "</div>"
      ],
      "text/plain": [
       "          date exchange_rate\n",
       "0   2023-05-11        14.776\n",
       "1   2023-05-10        14.698\n",
       "2   2023-05-09        14.776\n",
       "3   2023-05-08        14.744\n",
       "4   2023-05-05        14.675\n",
       "..         ...           ...\n",
       "124 2022-11-18        15.641\n",
       "125 2022-11-17        15.714\n",
       "126 2022-11-16        15.639\n",
       "127 2022-11-15        15.557\n",
       "128 2022-11-14        15.554\n",
       "\n",
       "[129 rows x 2 columns]"
      ]
     },
     "execution_count": 36,
     "metadata": {},
     "output_type": "execute_result"
    }
   ],
   "source": [
    "df"
   ]
  },
  {
   "cell_type": "code",
   "execution_count": 37,
   "metadata": {},
   "outputs": [
    {
     "data": {
      "text/plain": [
       "date             datetime64[ns]\n",
       "exchange_rate           float64\n",
       "dtype: object"
      ]
     },
     "execution_count": 37,
     "metadata": {},
     "output_type": "execute_result"
    }
   ],
   "source": [
    "\n",
    "df['exchange_rate'] = df['exchange_rate'].astype('float64')\n",
    "\n",
    "\n",
    "df.dtypes"
   ]
  },
  {
   "cell_type": "code",
   "execution_count": 39,
   "metadata": {},
   "outputs": [],
   "source": [
    "df = df.set_index('date')"
   ]
  },
  {
   "attachments": {},
   "cell_type": "markdown",
   "metadata": {},
   "source": [
    "Data visualisation (please change this markdown with your explanation of what you do for data wrangling)"
   ]
  },
  {
   "cell_type": "code",
   "execution_count": 40,
   "metadata": {},
   "outputs": [
    {
     "data": {
      "text/plain": [
       "<Axes: xlabel='date'>"
      ]
     },
     "execution_count": 40,
     "metadata": {},
     "output_type": "execute_result"
    },
    {
     "data": {
      "image/png": "[encoded data removed]",
      "text/plain": [
       "<Figure size 640x480 with 1 Axes>"
      ]
     },
     "metadata": {},
     "output_type": "display_data"
    }
   ],
   "source": [
    "df.plot()"
   ]
  },
  {
   "attachments": {},
   "cell_type": "markdown",
   "metadata": {},
   "source": [
    "### Implementing your webscrapping to the flask dashboard\n",
    "\n",
    "- Copy paste all of your web scrapping process to the desired position on the `app.py`\n",
    "- Changing the title of the dasboard at `index.html`"
   ]
  },
  {
   "attachments": {},
   "cell_type": "markdown",
   "metadata": {},
   "source": [
    "## Finishing This Notebook with Your Analysis and Conclusion\n",
    "\n",
    "First you can do start with making the data visualisation. "
   ]
  },
  {
   "cell_type": "code",
   "execution_count": null,
   "metadata": {
    "ExecuteTime": {
     "end_time": "2020-01-13T05:20:56.208237Z",
     "start_time": "2020-01-13T05:20:56.076043Z"
    }
   },
   "outputs": [],
   "source": []
  },
  {
   "attachments": {},
   "cell_type": "markdown",
   "metadata": {},
   "source": [
    "\n",
    "(Put your analysis and conclusion here.)"
   ]
  },
  {
   "attachments": {},
   "cell_type": "markdown",
   "metadata": {},
   "source": [
    "### Implement it at the webapps\n",
    "\n",
    "- You can create additional analysis from the data.\n",
    "- Implement it to the dashboard with at `app.py` dan `index.html`."
   ]
  }
 ],
 "metadata": {
  "kernelspec": {
   "display_name": "vulcan_da",
   "language": "python",
   "name": "python3"
  },
  "language_info": {
   "codemirror_mode": {
    "name": "ipython",
    "version": 3
   },
   "file_extension": ".py",
   "mimetype": "text/x-python",
   "name": "python",
   "nbconvert_exporter": "python",
   "pygments_lexer": "ipython3",
   "version": "3.10.10"
  }
 },
 "nbformat": 4,
 "nbformat_minor": 2
}
